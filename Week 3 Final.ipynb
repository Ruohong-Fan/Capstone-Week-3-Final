{
    "nbformat_minor": 1, 
    "cells": [
        {
            "source": "TORONTO NEIGHBORHOODS", 
            "cell_type": "markdown", 
            "metadata": {
                "collapsed": true
            }
        }, 
        {
            "source": "Let's download all the dependencies that we will need.", 
            "cell_type": "markdown", 
            "metadata": {}
        }, 
        {
            "execution_count": 1, 
            "cell_type": "code", 
            "metadata": {}, 
            "outputs": [
                {
                    "output_type": "stream", 
                    "name": "stdout", 
                    "text": "Solving environment: done\n\n## Package Plan ##\n\n  environment location: /opt/conda/envs/Python36\n\n  added / updated specs: \n    - geopy\n\n\nThe following packages will be downloaded:\n\n    package                    |            build\n    ---------------------------|-----------------\n    openssl-1.1.1c             |       h516909a_0         2.1 MB  conda-forge\n    geopy-1.20.0               |             py_0          57 KB  conda-forge\n    geographiclib-1.49         |             py_0          32 KB  conda-forge\n    ca-certificates-2019.6.16  |       hecc5488_0         145 KB  conda-forge\n    certifi-2019.6.16          |           py36_1         149 KB  conda-forge\n    ------------------------------------------------------------\n                                           Total:         2.5 MB\n\nThe following NEW packages will be INSTALLED:\n\n    geographiclib:   1.49-py_0         conda-forge\n    geopy:           1.20.0-py_0       conda-forge\n\nThe following packages will be UPDATED:\n\n    ca-certificates: 2019.5.15-0                   --> 2019.6.16-hecc5488_0 conda-forge\n    certifi:         2019.6.16-py36_1              --> 2019.6.16-py36_1     conda-forge\n\nThe following packages will be DOWNGRADED:\n\n    openssl:         1.1.1c-h7b6447c_1             --> 1.1.1c-h516909a_0    conda-forge\n\n\nDownloading and Extracting Packages\nopenssl-1.1.1c       | 2.1 MB    | ##################################### | 100% \ngeopy-1.20.0         | 57 KB     | ##################################### | 100% \ngeographiclib-1.49   | 32 KB     | ##################################### | 100% \nca-certificates-2019 | 145 KB    | ##################################### | 100% \ncertifi-2019.6.16    | 149 KB    | ##################################### | 100% \nPreparing transaction: done\nVerifying transaction: done\nExecuting transaction: done\nSolving environment: done\n\n## Package Plan ##\n\n  environment location: /opt/conda/envs/Python36\n\n  added / updated specs: \n    - folium=0.5.0\n\n\nThe following packages will be downloaded:\n\n    package                    |            build\n    ---------------------------|-----------------\n    altair-3.2.0               |           py36_0         770 KB  conda-forge\n    branca-0.3.1               |             py_0          25 KB  conda-forge\n    vincent-0.4.4              |             py_1          28 KB  conda-forge\n    folium-0.5.0               |             py_0          45 KB  conda-forge\n    ------------------------------------------------------------\n                                           Total:         868 KB\n\nThe following NEW packages will be INSTALLED:\n\n    altair:  3.2.0-py36_0 conda-forge\n    branca:  0.3.1-py_0   conda-forge\n    folium:  0.5.0-py_0   conda-forge\n    vincent: 0.4.4-py_1   conda-forge\n\n\nDownloading and Extracting Packages\naltair-3.2.0         | 770 KB    | ##################################### | 100% \nbranca-0.3.1         | 25 KB     | ##################################### | 100% \nvincent-0.4.4        | 28 KB     | ##################################### | 100% \nfolium-0.5.0         | 45 KB     | ##################################### | 100% \nPreparing transaction: done\nVerifying transaction: done\nExecuting transaction: done\nRequirement already satisfied: lxml in /opt/conda/envs/Python36/lib/python3.6/site-packages (4.3.1)\nRequirement already satisfied: geopy in /opt/conda/envs/Python36/lib/python3.6/site-packages (1.20.0)\nRequirement already satisfied: geographiclib<2,>=1.49 in /opt/conda/envs/Python36/lib/python3.6/site-packages (from geopy) (1.49)\nLibraries imported.\n"
                }
            ], 
            "source": "import numpy as np # library to handle data in a vectorized manner\n\nfrom bs4 import BeautifulSoup\nimport requests\n\nimport pandas as pd # library for data analsysis\npd.set_option('display.max_columns', None)\npd.set_option('display.max_rows', None)\n\nimport json # library to handle JSON files\n\n!conda install -c conda-forge geopy --yes # uncomment this line if you haven't completed the Foursquare API lab\nfrom geopy.geocoders import Nominatim # convert an address into latitude and longitude values\n\nimport requests # library to handle requests\nfrom pandas.io.json import json_normalize # tranform JSON file into a pandas dataframe\n\n# Matplotlib and associated plotting modules\nimport matplotlib.cm as cm\nimport matplotlib.colors as colors\n\n# import k-means from clustering stage\nfrom sklearn.cluster import KMeans\n\n!conda install -c conda-forge folium=0.5.0 --yes # uncomment this line if you haven't completed the Foursquare API lab\nimport folium # map rendering library\n\n!pip install lxml\n\n!pip install geopy\n\nprint('Libraries imported.')"
        }, 
        {
            "source": "1. Download and Explore Dataset", 
            "cell_type": "markdown", 
            "metadata": {}
        }, 
        {
            "execution_count": 2, 
            "cell_type": "code", 
            "metadata": {}, 
            "outputs": [
                {
                    "output_type": "stream", 
                    "name": "stdout", 
                    "text": "https://en.wikipedia.org/wiki/List_of_postal_codes_of_Canada:_M\n200\n{'Date': 'Sat, 10 Aug 2019 14:27:57 GMT', 'Content-Type': 'text/html; charset=UTF-8', 'Content-Length': '15024', 'Connection': 'keep-alive', 'Server': 'mw1254.eqiad.wmnet', 'X-Content-Type-Options': 'nosniff', 'P3P': 'CP=\"This is not a P3P policy! See https://en.wikipedia.org/wiki/Special:CentralAutoLogin/P3P for more info.\"', 'X-Powered-By': 'HHVM/3.18.6-dev', 'Content-language': 'en', 'Last-Modified': 'Fri, 26 Jul 2019 12:51:09 GMT', 'Backend-Timing': 'D=104432 t=1565355068991518', 'Vary': 'Accept-Encoding,Cookie,Authorization,X-Seven', 'Content-Encoding': 'gzip', 'X-Varnish': '357225865 28580281, 939511085 343853697', 'Age': '92207', 'X-Cache': 'cp1081 hit/5, cp1085 hit/50', 'X-Cache-Status': 'hit-front', 'Server-Timing': 'cache;desc=\"hit-front\"', 'Strict-Transport-Security': 'max-age=106384710; includeSubDomains; preload', 'Set-Cookie': 'WMF-Last-Access=10-Aug-2019;Path=/;HttpOnly;secure;Expires=Wed, 11 Sep 2019 12:00:00 GMT, WMF-Last-Access-Global=10-Aug-2019;Path=/;Domain=.wikipedia.org;HttpOnly;secure;Expires=Wed, 11 Sep 2019 12:00:00 GMT, GeoIP=US:::37.75:-97.82:v4; Path=/; secure; Domain=.wikipedia.org', 'X-Analytics': 'ns=0;page_id=539066;https=1;nocookies=1', 'X-Client-IP': '169.60.36.61', 'Cache-Control': 'private, s-maxage=0, max-age=0, must-revalidate', 'Accept-Ranges': 'bytes'}\n"
                }
            ], 
            "source": "url = 'https://en.wikipedia.org/wiki/List_of_postal_codes_of_Canada:_M'\ntoronto_data = requests.get(url)\nprint(url)\nprint(toronto_data.status_code)\nprint(toronto_data.headers)"
        }, 
        {
            "source": "Let's get the table with the data and assign the rows to the table and assign the \"Not assigned\" to buroughs - Cleaning", 
            "cell_type": "markdown", 
            "metadata": {}
        }, 
        {
            "execution_count": 3, 
            "cell_type": "code", 
            "metadata": {
                "scrolled": false
            }, 
            "outputs": [], 
            "source": "soup = BeautifulSoup(toronto_data.content, 'html.parser')\ntable = soup.find('table')\ntrs = table.find_all('tr')\nrows = []\nfor tr in trs:\n    i = tr.find_all('td')\n    if i:\n        rows.append(i)\n        \nlst = []\nfor row in rows:\n    Postcode = row[0].text.rstrip()\n    borough = row[1].text.rstrip()\n    toronto_data = row[2].text.rstrip()\n    if borough != 'Not assigned':\n        if toronto_data == 'Not assigned':\n            toronto_data = borough\n        lst.append([Postcode, borough, toronto_data])\n        \n\n"
        }, 
        {
            "source": "Convert to dataframe", 
            "cell_type": "markdown", 
            "metadata": {}
        }, 
        {
            "execution_count": 4, 
            "cell_type": "code", 
            "metadata": {}, 
            "outputs": [
                {
                    "output_type": "stream", 
                    "name": "stdout", 
                    "text": "(211, 3)\n"
                }, 
                {
                    "execution_count": 4, 
                    "metadata": {}, 
                    "data": {
                        "text/html": "<div>\n<style scoped>\n    .dataframe tbody tr th:only-of-type {\n        vertical-align: middle;\n    }\n\n    .dataframe tbody tr th {\n        vertical-align: top;\n    }\n\n    .dataframe thead th {\n        text-align: right;\n    }\n</style>\n<table border=\"1\" class=\"dataframe\">\n  <thead>\n    <tr style=\"text-align: right;\">\n      <th></th>\n      <th>PostalCode</th>\n      <th>Borough</th>\n      <th>Neighborhood</th>\n    </tr>\n  </thead>\n  <tbody>\n    <tr>\n      <th>2</th>\n      <td>M5A</td>\n      <td>Downtown Toronto</td>\n      <td>Harbourfront</td>\n    </tr>\n    <tr>\n      <th>3</th>\n      <td>M5A</td>\n      <td>Downtown Toronto</td>\n      <td>Regent Park</td>\n    </tr>\n    <tr>\n      <th>4</th>\n      <td>M6A</td>\n      <td>North York</td>\n      <td>Lawrence Heights</td>\n    </tr>\n    <tr>\n      <th>5</th>\n      <td>M6A</td>\n      <td>North York</td>\n      <td>Lawrence Manor</td>\n    </tr>\n    <tr>\n      <th>8</th>\n      <td>M1B</td>\n      <td>Scarborough</td>\n      <td>Rouge</td>\n    </tr>\n    <tr>\n      <th>9</th>\n      <td>M1B</td>\n      <td>Scarborough</td>\n      <td>Malvern</td>\n    </tr>\n    <tr>\n      <th>11</th>\n      <td>M4B</td>\n      <td>East York</td>\n      <td>Woodbine Gardens</td>\n    </tr>\n    <tr>\n      <th>12</th>\n      <td>M4B</td>\n      <td>East York</td>\n      <td>Parkview Hill</td>\n    </tr>\n    <tr>\n      <th>13</th>\n      <td>M5B</td>\n      <td>Downtown Toronto</td>\n      <td>Ryerson</td>\n    </tr>\n    <tr>\n      <th>14</th>\n      <td>M5B</td>\n      <td>Downtown Toronto</td>\n      <td>Garden District</td>\n    </tr>\n    <tr>\n      <th>16</th>\n      <td>M9B</td>\n      <td>Etobicoke</td>\n      <td>Cloverdale</td>\n    </tr>\n    <tr>\n      <th>17</th>\n      <td>M9B</td>\n      <td>Etobicoke</td>\n      <td>Islington</td>\n    </tr>\n    <tr>\n      <th>18</th>\n      <td>M9B</td>\n      <td>Etobicoke</td>\n      <td>Martin Grove</td>\n    </tr>\n    <tr>\n      <th>19</th>\n      <td>M9B</td>\n      <td>Etobicoke</td>\n      <td>Princess Gardens</td>\n    </tr>\n    <tr>\n      <th>20</th>\n      <td>M9B</td>\n      <td>Etobicoke</td>\n      <td>West Deane Park</td>\n    </tr>\n    <tr>\n      <th>21</th>\n      <td>M1C</td>\n      <td>Scarborough</td>\n      <td>Highland Creek</td>\n    </tr>\n    <tr>\n      <th>22</th>\n      <td>M1C</td>\n      <td>Scarborough</td>\n      <td>Rouge Hill</td>\n    </tr>\n    <tr>\n      <th>23</th>\n      <td>M1C</td>\n      <td>Scarborough</td>\n      <td>Port Union</td>\n    </tr>\n    <tr>\n      <th>24</th>\n      <td>M3C</td>\n      <td>North York</td>\n      <td>Flemingdon Park</td>\n    </tr>\n    <tr>\n      <th>25</th>\n      <td>M3C</td>\n      <td>North York</td>\n      <td>Don Mills South</td>\n    </tr>\n    <tr>\n      <th>29</th>\n      <td>M9C</td>\n      <td>Etobicoke</td>\n      <td>Bloordale Gardens</td>\n    </tr>\n    <tr>\n      <th>30</th>\n      <td>M9C</td>\n      <td>Etobicoke</td>\n      <td>Eringate</td>\n    </tr>\n    <tr>\n      <th>31</th>\n      <td>M9C</td>\n      <td>Etobicoke</td>\n      <td>Markland Wood</td>\n    </tr>\n    <tr>\n      <th>32</th>\n      <td>M9C</td>\n      <td>Etobicoke</td>\n      <td>Old Burnhamthorpe</td>\n    </tr>\n    <tr>\n      <th>33</th>\n      <td>M1E</td>\n      <td>Scarborough</td>\n      <td>Guildwood</td>\n    </tr>\n    <tr>\n      <th>34</th>\n      <td>M1E</td>\n      <td>Scarborough</td>\n      <td>Morningside</td>\n    </tr>\n    <tr>\n      <th>35</th>\n      <td>M1E</td>\n      <td>Scarborough</td>\n      <td>West Hill</td>\n    </tr>\n    <tr>\n      <th>45</th>\n      <td>M3H</td>\n      <td>North York</td>\n      <td>Bathurst Manor</td>\n    </tr>\n    <tr>\n      <th>46</th>\n      <td>M3H</td>\n      <td>North York</td>\n      <td>Downsview North</td>\n    </tr>\n    <tr>\n      <th>47</th>\n      <td>M3H</td>\n      <td>North York</td>\n      <td>Wilson Heights</td>\n    </tr>\n    <tr>\n      <th>49</th>\n      <td>M5H</td>\n      <td>Downtown Toronto</td>\n      <td>Adelaide</td>\n    </tr>\n    <tr>\n      <th>50</th>\n      <td>M5H</td>\n      <td>Downtown Toronto</td>\n      <td>King</td>\n    </tr>\n    <tr>\n      <th>51</th>\n      <td>M5H</td>\n      <td>Downtown Toronto</td>\n      <td>Richmond</td>\n    </tr>\n    <tr>\n      <th>52</th>\n      <td>M6H</td>\n      <td>West Toronto</td>\n      <td>Dovercourt Village</td>\n    </tr>\n    <tr>\n      <th>53</th>\n      <td>M6H</td>\n      <td>West Toronto</td>\n      <td>Dufferin</td>\n    </tr>\n    <tr>\n      <th>55</th>\n      <td>M2J</td>\n      <td>North York</td>\n      <td>Fairview</td>\n    </tr>\n    <tr>\n      <th>56</th>\n      <td>M2J</td>\n      <td>North York</td>\n      <td>Henry Farm</td>\n    </tr>\n    <tr>\n      <th>57</th>\n      <td>M2J</td>\n      <td>North York</td>\n      <td>Oriole</td>\n    </tr>\n    <tr>\n      <th>58</th>\n      <td>M3J</td>\n      <td>North York</td>\n      <td>Northwood Park</td>\n    </tr>\n    <tr>\n      <th>59</th>\n      <td>M3J</td>\n      <td>North York</td>\n      <td>York University</td>\n    </tr>\n    <tr>\n      <th>61</th>\n      <td>M5J</td>\n      <td>Downtown Toronto</td>\n      <td>Harbourfront East</td>\n    </tr>\n    <tr>\n      <th>62</th>\n      <td>M5J</td>\n      <td>Downtown Toronto</td>\n      <td>Toronto Islands</td>\n    </tr>\n    <tr>\n      <th>63</th>\n      <td>M5J</td>\n      <td>Downtown Toronto</td>\n      <td>Union Station</td>\n    </tr>\n    <tr>\n      <th>64</th>\n      <td>M6J</td>\n      <td>West Toronto</td>\n      <td>Little Portugal</td>\n    </tr>\n    <tr>\n      <th>65</th>\n      <td>M6J</td>\n      <td>West Toronto</td>\n      <td>Trinity</td>\n    </tr>\n    <tr>\n      <th>66</th>\n      <td>M1K</td>\n      <td>Scarborough</td>\n      <td>East Birchmount Park</td>\n    </tr>\n    <tr>\n      <th>67</th>\n      <td>M1K</td>\n      <td>Scarborough</td>\n      <td>Ionview</td>\n    </tr>\n    <tr>\n      <th>68</th>\n      <td>M1K</td>\n      <td>Scarborough</td>\n      <td>Kennedy Park</td>\n    </tr>\n    <tr>\n      <th>70</th>\n      <td>M3K</td>\n      <td>North York</td>\n      <td>CFB Toronto</td>\n    </tr>\n    <tr>\n      <th>71</th>\n      <td>M3K</td>\n      <td>North York</td>\n      <td>Downsview East</td>\n    </tr>\n    <tr>\n      <th>72</th>\n      <td>M4K</td>\n      <td>East Toronto</td>\n      <td>The Danforth West</td>\n    </tr>\n    <tr>\n      <th>73</th>\n      <td>M4K</td>\n      <td>East Toronto</td>\n      <td>Riverdale</td>\n    </tr>\n    <tr>\n      <th>74</th>\n      <td>M5K</td>\n      <td>Downtown Toronto</td>\n      <td>Design Exchange</td>\n    </tr>\n    <tr>\n      <th>75</th>\n      <td>M5K</td>\n      <td>Downtown Toronto</td>\n      <td>Toronto Dominion Centre</td>\n    </tr>\n    <tr>\n      <th>76</th>\n      <td>M6K</td>\n      <td>West Toronto</td>\n      <td>Brockton</td>\n    </tr>\n    <tr>\n      <th>77</th>\n      <td>M6K</td>\n      <td>West Toronto</td>\n      <td>Exhibition Place</td>\n    </tr>\n    <tr>\n      <th>78</th>\n      <td>M6K</td>\n      <td>West Toronto</td>\n      <td>Parkdale Village</td>\n    </tr>\n    <tr>\n      <th>79</th>\n      <td>M1L</td>\n      <td>Scarborough</td>\n      <td>Clairlea</td>\n    </tr>\n    <tr>\n      <th>80</th>\n      <td>M1L</td>\n      <td>Scarborough</td>\n      <td>Golden Mile</td>\n    </tr>\n    <tr>\n      <th>81</th>\n      <td>M1L</td>\n      <td>Scarborough</td>\n      <td>Oakridge</td>\n    </tr>\n    <tr>\n      <th>82</th>\n      <td>M2L</td>\n      <td>North York</td>\n      <td>Silver Hills</td>\n    </tr>\n    <tr>\n      <th>83</th>\n      <td>M2L</td>\n      <td>North York</td>\n      <td>York Mills</td>\n    </tr>\n    <tr>\n      <th>85</th>\n      <td>M4L</td>\n      <td>East Toronto</td>\n      <td>The Beaches West</td>\n    </tr>\n    <tr>\n      <th>86</th>\n      <td>M4L</td>\n      <td>East Toronto</td>\n      <td>India Bazaar</td>\n    </tr>\n    <tr>\n      <th>87</th>\n      <td>M5L</td>\n      <td>Downtown Toronto</td>\n      <td>Commerce Court</td>\n    </tr>\n    <tr>\n      <th>88</th>\n      <td>M5L</td>\n      <td>Downtown Toronto</td>\n      <td>Victoria Hotel</td>\n    </tr>\n    <tr>\n      <th>89</th>\n      <td>M6L</td>\n      <td>North York</td>\n      <td>Downsview</td>\n    </tr>\n    <tr>\n      <th>90</th>\n      <td>M6L</td>\n      <td>North York</td>\n      <td>North Park</td>\n    </tr>\n    <tr>\n      <th>91</th>\n      <td>M6L</td>\n      <td>North York</td>\n      <td>Upwood Park</td>\n    </tr>\n    <tr>\n      <th>93</th>\n      <td>M1M</td>\n      <td>Scarborough</td>\n      <td>Cliffcrest</td>\n    </tr>\n    <tr>\n      <th>94</th>\n      <td>M1M</td>\n      <td>Scarborough</td>\n      <td>Cliffside</td>\n    </tr>\n    <tr>\n      <th>95</th>\n      <td>M1M</td>\n      <td>Scarborough</td>\n      <td>Scarborough Village West</td>\n    </tr>\n    <tr>\n      <th>96</th>\n      <td>M2M</td>\n      <td>North York</td>\n      <td>Newtonbrook</td>\n    </tr>\n    <tr>\n      <th>97</th>\n      <td>M2M</td>\n      <td>North York</td>\n      <td>Willowdale</td>\n    </tr>\n    <tr>\n      <th>100</th>\n      <td>M5M</td>\n      <td>North York</td>\n      <td>Bedford Park</td>\n    </tr>\n    <tr>\n      <th>101</th>\n      <td>M5M</td>\n      <td>North York</td>\n      <td>Lawrence Manor East</td>\n    </tr>\n    <tr>\n      <th>102</th>\n      <td>M6M</td>\n      <td>York</td>\n      <td>Del Ray</td>\n    </tr>\n    <tr>\n      <th>103</th>\n      <td>M6M</td>\n      <td>York</td>\n      <td>Keelesdale</td>\n    </tr>\n    <tr>\n      <th>104</th>\n      <td>M6M</td>\n      <td>York</td>\n      <td>Mount Dennis</td>\n    </tr>\n    <tr>\n      <th>105</th>\n      <td>M6M</td>\n      <td>York</td>\n      <td>Silverthorn</td>\n    </tr>\n    <tr>\n      <th>106</th>\n      <td>M9M</td>\n      <td>North York</td>\n      <td>Emery</td>\n    </tr>\n    <tr>\n      <th>107</th>\n      <td>M9M</td>\n      <td>North York</td>\n      <td>Humberlea</td>\n    </tr>\n    <tr>\n      <th>108</th>\n      <td>M1N</td>\n      <td>Scarborough</td>\n      <td>Birch Cliff</td>\n    </tr>\n    <tr>\n      <th>109</th>\n      <td>M1N</td>\n      <td>Scarborough</td>\n      <td>Cliffside West</td>\n    </tr>\n    <tr>\n      <th>114</th>\n      <td>M6N</td>\n      <td>York</td>\n      <td>The Junction North</td>\n    </tr>\n    <tr>\n      <th>115</th>\n      <td>M6N</td>\n      <td>York</td>\n      <td>Runnymede</td>\n    </tr>\n    <tr>\n      <th>117</th>\n      <td>M1P</td>\n      <td>Scarborough</td>\n      <td>Dorset Park</td>\n    </tr>\n    <tr>\n      <th>118</th>\n      <td>M1P</td>\n      <td>Scarborough</td>\n      <td>Scarborough Town Centre</td>\n    </tr>\n    <tr>\n      <th>119</th>\n      <td>M1P</td>\n      <td>Scarborough</td>\n      <td>Wexford Heights</td>\n    </tr>\n    <tr>\n      <th>122</th>\n      <td>M5P</td>\n      <td>Central Toronto</td>\n      <td>Forest Hill North</td>\n    </tr>\n    <tr>\n      <th>123</th>\n      <td>M5P</td>\n      <td>Central Toronto</td>\n      <td>Forest Hill West</td>\n    </tr>\n    <tr>\n      <th>124</th>\n      <td>M6P</td>\n      <td>West Toronto</td>\n      <td>High Park</td>\n    </tr>\n    <tr>\n      <th>125</th>\n      <td>M6P</td>\n      <td>West Toronto</td>\n      <td>The Junction South</td>\n    </tr>\n    <tr>\n      <th>127</th>\n      <td>M1R</td>\n      <td>Scarborough</td>\n      <td>Maryvale</td>\n    </tr>\n    <tr>\n      <th>128</th>\n      <td>M1R</td>\n      <td>Scarborough</td>\n      <td>Wexford</td>\n    </tr>\n    <tr>\n      <th>131</th>\n      <td>M5R</td>\n      <td>Central Toronto</td>\n      <td>The Annex</td>\n    </tr>\n    <tr>\n      <th>132</th>\n      <td>M5R</td>\n      <td>Central Toronto</td>\n      <td>North Midtown</td>\n    </tr>\n    <tr>\n      <th>133</th>\n      <td>M5R</td>\n      <td>Central Toronto</td>\n      <td>Yorkville</td>\n    </tr>\n    <tr>\n      <th>134</th>\n      <td>M6R</td>\n      <td>West Toronto</td>\n      <td>Parkdale</td>\n    </tr>\n    <tr>\n      <th>135</th>\n      <td>M6R</td>\n      <td>West Toronto</td>\n      <td>Roncesvalles</td>\n    </tr>\n    <tr>\n      <th>137</th>\n      <td>M9R</td>\n      <td>Etobicoke</td>\n      <td>Kingsview Village</td>\n    </tr>\n    <tr>\n      <th>138</th>\n      <td>M9R</td>\n      <td>Etobicoke</td>\n      <td>Martin Grove Gardens</td>\n    </tr>\n    <tr>\n      <th>139</th>\n      <td>M9R</td>\n      <td>Etobicoke</td>\n      <td>Richview Gardens</td>\n    </tr>\n    <tr>\n      <th>140</th>\n      <td>M9R</td>\n      <td>Etobicoke</td>\n      <td>St. Phillips</td>\n    </tr>\n    <tr>\n      <th>143</th>\n      <td>M5S</td>\n      <td>Downtown Toronto</td>\n      <td>Harbord</td>\n    </tr>\n    <tr>\n      <th>144</th>\n      <td>M5S</td>\n      <td>Downtown Toronto</td>\n      <td>University of Toronto</td>\n    </tr>\n    <tr>\n      <th>145</th>\n      <td>M6S</td>\n      <td>West Toronto</td>\n      <td>Runnymede</td>\n    </tr>\n    <tr>\n      <th>146</th>\n      <td>M6S</td>\n      <td>West Toronto</td>\n      <td>Swansea</td>\n    </tr>\n    <tr>\n      <th>147</th>\n      <td>M1T</td>\n      <td>Scarborough</td>\n      <td>Clarks Corners</td>\n    </tr>\n    <tr>\n      <th>148</th>\n      <td>M1T</td>\n      <td>Scarborough</td>\n      <td>Sullivan</td>\n    </tr>\n    <tr>\n      <th>149</th>\n      <td>M1T</td>\n      <td>Scarborough</td>\n      <td>Tam O'Shanter</td>\n    </tr>\n    <tr>\n      <th>150</th>\n      <td>M4T</td>\n      <td>Central Toronto</td>\n      <td>Moore Park</td>\n    </tr>\n    <tr>\n      <th>151</th>\n      <td>M4T</td>\n      <td>Central Toronto</td>\n      <td>Summerhill East</td>\n    </tr>\n    <tr>\n      <th>152</th>\n      <td>M5T</td>\n      <td>Downtown Toronto</td>\n      <td>Chinatown</td>\n    </tr>\n    <tr>\n      <th>153</th>\n      <td>M5T</td>\n      <td>Downtown Toronto</td>\n      <td>Grange Park</td>\n    </tr>\n    <tr>\n      <th>154</th>\n      <td>M5T</td>\n      <td>Downtown Toronto</td>\n      <td>Kensington Market</td>\n    </tr>\n    <tr>\n      <th>155</th>\n      <td>M1V</td>\n      <td>Scarborough</td>\n      <td>Agincourt North</td>\n    </tr>\n    <tr>\n      <th>156</th>\n      <td>M1V</td>\n      <td>Scarborough</td>\n      <td>L'Amoreaux East</td>\n    </tr>\n    <tr>\n      <th>157</th>\n      <td>M1V</td>\n      <td>Scarborough</td>\n      <td>Milliken</td>\n    </tr>\n    <tr>\n      <th>158</th>\n      <td>M1V</td>\n      <td>Scarborough</td>\n      <td>Steeles East</td>\n    </tr>\n    <tr>\n      <th>159</th>\n      <td>M4V</td>\n      <td>Central Toronto</td>\n      <td>Deer Park</td>\n    </tr>\n    <tr>\n      <th>160</th>\n      <td>M4V</td>\n      <td>Central Toronto</td>\n      <td>Forest Hill SE</td>\n    </tr>\n    <tr>\n      <th>161</th>\n      <td>M4V</td>\n      <td>Central Toronto</td>\n      <td>Rathnelly</td>\n    </tr>\n    <tr>\n      <th>162</th>\n      <td>M4V</td>\n      <td>Central Toronto</td>\n      <td>South Hill</td>\n    </tr>\n    <tr>\n      <th>163</th>\n      <td>M4V</td>\n      <td>Central Toronto</td>\n      <td>Summerhill West</td>\n    </tr>\n    <tr>\n      <th>164</th>\n      <td>M5V</td>\n      <td>Downtown Toronto</td>\n      <td>CN Tower</td>\n    </tr>\n    <tr>\n      <th>165</th>\n      <td>M5V</td>\n      <td>Downtown Toronto</td>\n      <td>Bathurst Quay</td>\n    </tr>\n    <tr>\n      <th>166</th>\n      <td>M5V</td>\n      <td>Downtown Toronto</td>\n      <td>Island airport</td>\n    </tr>\n    <tr>\n      <th>167</th>\n      <td>M5V</td>\n      <td>Downtown Toronto</td>\n      <td>Harbourfront West</td>\n    </tr>\n    <tr>\n      <th>168</th>\n      <td>M5V</td>\n      <td>Downtown Toronto</td>\n      <td>King and Spadina</td>\n    </tr>\n    <tr>\n      <th>169</th>\n      <td>M5V</td>\n      <td>Downtown Toronto</td>\n      <td>Railway Lands</td>\n    </tr>\n    <tr>\n      <th>170</th>\n      <td>M5V</td>\n      <td>Downtown Toronto</td>\n      <td>South Niagara</td>\n    </tr>\n    <tr>\n      <th>171</th>\n      <td>M8V</td>\n      <td>Etobicoke</td>\n      <td>Humber Bay Shores</td>\n    </tr>\n    <tr>\n      <th>172</th>\n      <td>M8V</td>\n      <td>Etobicoke</td>\n      <td>Mimico South</td>\n    </tr>\n    <tr>\n      <th>173</th>\n      <td>M8V</td>\n      <td>Etobicoke</td>\n      <td>New Toronto</td>\n    </tr>\n    <tr>\n      <th>174</th>\n      <td>M9V</td>\n      <td>Etobicoke</td>\n      <td>Albion Gardens</td>\n    </tr>\n    <tr>\n      <th>175</th>\n      <td>M9V</td>\n      <td>Etobicoke</td>\n      <td>Beaumond Heights</td>\n    </tr>\n    <tr>\n      <th>176</th>\n      <td>M9V</td>\n      <td>Etobicoke</td>\n      <td>Humbergate</td>\n    </tr>\n    <tr>\n      <th>177</th>\n      <td>M9V</td>\n      <td>Etobicoke</td>\n      <td>Jamestown</td>\n    </tr>\n    <tr>\n      <th>178</th>\n      <td>M9V</td>\n      <td>Etobicoke</td>\n      <td>Mount Olive</td>\n    </tr>\n    <tr>\n      <th>179</th>\n      <td>M9V</td>\n      <td>Etobicoke</td>\n      <td>Silverstone</td>\n    </tr>\n    <tr>\n      <th>180</th>\n      <td>M9V</td>\n      <td>Etobicoke</td>\n      <td>South Steeles</td>\n    </tr>\n    <tr>\n      <th>181</th>\n      <td>M9V</td>\n      <td>Etobicoke</td>\n      <td>Thistletown</td>\n    </tr>\n    <tr>\n      <th>185</th>\n      <td>M8W</td>\n      <td>Etobicoke</td>\n      <td>Alderwood</td>\n    </tr>\n    <tr>\n      <th>186</th>\n      <td>M8W</td>\n      <td>Etobicoke</td>\n      <td>Long Branch</td>\n    </tr>\n    <tr>\n      <th>189</th>\n      <td>M4X</td>\n      <td>Downtown Toronto</td>\n      <td>Cabbagetown</td>\n    </tr>\n    <tr>\n      <th>190</th>\n      <td>M4X</td>\n      <td>Downtown Toronto</td>\n      <td>St. James Town</td>\n    </tr>\n    <tr>\n      <th>191</th>\n      <td>M5X</td>\n      <td>Downtown Toronto</td>\n      <td>First Canadian Place</td>\n    </tr>\n    <tr>\n      <th>192</th>\n      <td>M5X</td>\n      <td>Downtown Toronto</td>\n      <td>Underground city</td>\n    </tr>\n    <tr>\n      <th>193</th>\n      <td>M8X</td>\n      <td>Etobicoke</td>\n      <td>The Kingsway</td>\n    </tr>\n    <tr>\n      <th>194</th>\n      <td>M8X</td>\n      <td>Etobicoke</td>\n      <td>Montgomery Road</td>\n    </tr>\n    <tr>\n      <th>195</th>\n      <td>M8X</td>\n      <td>Etobicoke</td>\n      <td>Old Mill North</td>\n    </tr>\n    <tr>\n      <th>198</th>\n      <td>M8Y</td>\n      <td>Etobicoke</td>\n      <td>Humber Bay</td>\n    </tr>\n    <tr>\n      <th>199</th>\n      <td>M8Y</td>\n      <td>Etobicoke</td>\n      <td>King's Mill Park</td>\n    </tr>\n    <tr>\n      <th>200</th>\n      <td>M8Y</td>\n      <td>Etobicoke</td>\n      <td>Kingsway Park South East</td>\n    </tr>\n    <tr>\n      <th>201</th>\n      <td>M8Y</td>\n      <td>Etobicoke</td>\n      <td>Mimico NE</td>\n    </tr>\n    <tr>\n      <th>202</th>\n      <td>M8Y</td>\n      <td>Etobicoke</td>\n      <td>Old Mill South</td>\n    </tr>\n    <tr>\n      <th>203</th>\n      <td>M8Y</td>\n      <td>Etobicoke</td>\n      <td>The Queensway East</td>\n    </tr>\n    <tr>\n      <th>204</th>\n      <td>M8Y</td>\n      <td>Etobicoke</td>\n      <td>Royal York South East</td>\n    </tr>\n    <tr>\n      <th>205</th>\n      <td>M8Y</td>\n      <td>Etobicoke</td>\n      <td>Sunnylea</td>\n    </tr>\n    <tr>\n      <th>206</th>\n      <td>M8Z</td>\n      <td>Etobicoke</td>\n      <td>Kingsway Park South West</td>\n    </tr>\n    <tr>\n      <th>207</th>\n      <td>M8Z</td>\n      <td>Etobicoke</td>\n      <td>Mimico NW</td>\n    </tr>\n    <tr>\n      <th>208</th>\n      <td>M8Z</td>\n      <td>Etobicoke</td>\n      <td>The Queensway West</td>\n    </tr>\n    <tr>\n      <th>209</th>\n      <td>M8Z</td>\n      <td>Etobicoke</td>\n      <td>Royal York South West</td>\n    </tr>\n    <tr>\n      <th>210</th>\n      <td>M8Z</td>\n      <td>Etobicoke</td>\n      <td>South of Bloor</td>\n    </tr>\n  </tbody>\n</table>\n</div>", 
                        "text/plain": "    PostalCode           Borough              Neighborhood\n2          M5A  Downtown Toronto              Harbourfront\n3          M5A  Downtown Toronto               Regent Park\n4          M6A        North York          Lawrence Heights\n5          M6A        North York            Lawrence Manor\n8          M1B       Scarborough                     Rouge\n9          M1B       Scarborough                   Malvern\n11         M4B         East York          Woodbine Gardens\n12         M4B         East York             Parkview Hill\n13         M5B  Downtown Toronto                   Ryerson\n14         M5B  Downtown Toronto           Garden District\n16         M9B         Etobicoke                Cloverdale\n17         M9B         Etobicoke                 Islington\n18         M9B         Etobicoke              Martin Grove\n19         M9B         Etobicoke          Princess Gardens\n20         M9B         Etobicoke           West Deane Park\n21         M1C       Scarborough            Highland Creek\n22         M1C       Scarborough                Rouge Hill\n23         M1C       Scarborough                Port Union\n24         M3C        North York           Flemingdon Park\n25         M3C        North York           Don Mills South\n29         M9C         Etobicoke         Bloordale Gardens\n30         M9C         Etobicoke                  Eringate\n31         M9C         Etobicoke             Markland Wood\n32         M9C         Etobicoke         Old Burnhamthorpe\n33         M1E       Scarborough                 Guildwood\n34         M1E       Scarborough               Morningside\n35         M1E       Scarborough                 West Hill\n45         M3H        North York            Bathurst Manor\n46         M3H        North York           Downsview North\n47         M3H        North York            Wilson Heights\n49         M5H  Downtown Toronto                  Adelaide\n50         M5H  Downtown Toronto                      King\n51         M5H  Downtown Toronto                  Richmond\n52         M6H      West Toronto        Dovercourt Village\n53         M6H      West Toronto                  Dufferin\n55         M2J        North York                  Fairview\n56         M2J        North York                Henry Farm\n57         M2J        North York                    Oriole\n58         M3J        North York            Northwood Park\n59         M3J        North York           York University\n61         M5J  Downtown Toronto         Harbourfront East\n62         M5J  Downtown Toronto           Toronto Islands\n63         M5J  Downtown Toronto             Union Station\n64         M6J      West Toronto           Little Portugal\n65         M6J      West Toronto                   Trinity\n66         M1K       Scarborough      East Birchmount Park\n67         M1K       Scarborough                   Ionview\n68         M1K       Scarborough              Kennedy Park\n70         M3K        North York               CFB Toronto\n71         M3K        North York            Downsview East\n72         M4K      East Toronto         The Danforth West\n73         M4K      East Toronto                 Riverdale\n74         M5K  Downtown Toronto           Design Exchange\n75         M5K  Downtown Toronto   Toronto Dominion Centre\n76         M6K      West Toronto                  Brockton\n77         M6K      West Toronto          Exhibition Place\n78         M6K      West Toronto          Parkdale Village\n79         M1L       Scarborough                  Clairlea\n80         M1L       Scarborough               Golden Mile\n81         M1L       Scarborough                  Oakridge\n82         M2L        North York              Silver Hills\n83         M2L        North York                York Mills\n85         M4L      East Toronto          The Beaches West\n86         M4L      East Toronto              India Bazaar\n87         M5L  Downtown Toronto            Commerce Court\n88         M5L  Downtown Toronto            Victoria Hotel\n89         M6L        North York                 Downsview\n90         M6L        North York                North Park\n91         M6L        North York               Upwood Park\n93         M1M       Scarborough                Cliffcrest\n94         M1M       Scarborough                 Cliffside\n95         M1M       Scarborough  Scarborough Village West\n96         M2M        North York               Newtonbrook\n97         M2M        North York                Willowdale\n100        M5M        North York              Bedford Park\n101        M5M        North York       Lawrence Manor East\n102        M6M              York                   Del Ray\n103        M6M              York                Keelesdale\n104        M6M              York              Mount Dennis\n105        M6M              York               Silverthorn\n106        M9M        North York                     Emery\n107        M9M        North York                 Humberlea\n108        M1N       Scarborough               Birch Cliff\n109        M1N       Scarborough            Cliffside West\n114        M6N              York        The Junction North\n115        M6N              York                 Runnymede\n117        M1P       Scarborough               Dorset Park\n118        M1P       Scarborough   Scarborough Town Centre\n119        M1P       Scarborough           Wexford Heights\n122        M5P   Central Toronto         Forest Hill North\n123        M5P   Central Toronto          Forest Hill West\n124        M6P      West Toronto                 High Park\n125        M6P      West Toronto        The Junction South\n127        M1R       Scarborough                  Maryvale\n128        M1R       Scarborough                   Wexford\n131        M5R   Central Toronto                 The Annex\n132        M5R   Central Toronto             North Midtown\n133        M5R   Central Toronto                 Yorkville\n134        M6R      West Toronto                  Parkdale\n135        M6R      West Toronto              Roncesvalles\n137        M9R         Etobicoke         Kingsview Village\n138        M9R         Etobicoke      Martin Grove Gardens\n139        M9R         Etobicoke          Richview Gardens\n140        M9R         Etobicoke              St. Phillips\n143        M5S  Downtown Toronto                   Harbord\n144        M5S  Downtown Toronto     University of Toronto\n145        M6S      West Toronto                 Runnymede\n146        M6S      West Toronto                   Swansea\n147        M1T       Scarborough            Clarks Corners\n148        M1T       Scarborough                  Sullivan\n149        M1T       Scarborough             Tam O'Shanter\n150        M4T   Central Toronto                Moore Park\n151        M4T   Central Toronto           Summerhill East\n152        M5T  Downtown Toronto                 Chinatown\n153        M5T  Downtown Toronto               Grange Park\n154        M5T  Downtown Toronto         Kensington Market\n155        M1V       Scarborough           Agincourt North\n156        M1V       Scarborough           L'Amoreaux East\n157        M1V       Scarborough                  Milliken\n158        M1V       Scarborough              Steeles East\n159        M4V   Central Toronto                 Deer Park\n160        M4V   Central Toronto            Forest Hill SE\n161        M4V   Central Toronto                 Rathnelly\n162        M4V   Central Toronto                South Hill\n163        M4V   Central Toronto           Summerhill West\n164        M5V  Downtown Toronto                  CN Tower\n165        M5V  Downtown Toronto             Bathurst Quay\n166        M5V  Downtown Toronto            Island airport\n167        M5V  Downtown Toronto         Harbourfront West\n168        M5V  Downtown Toronto          King and Spadina\n169        M5V  Downtown Toronto             Railway Lands\n170        M5V  Downtown Toronto             South Niagara\n171        M8V         Etobicoke         Humber Bay Shores\n172        M8V         Etobicoke              Mimico South\n173        M8V         Etobicoke               New Toronto\n174        M9V         Etobicoke            Albion Gardens\n175        M9V         Etobicoke          Beaumond Heights\n176        M9V         Etobicoke                Humbergate\n177        M9V         Etobicoke                 Jamestown\n178        M9V         Etobicoke               Mount Olive\n179        M9V         Etobicoke               Silverstone\n180        M9V         Etobicoke             South Steeles\n181        M9V         Etobicoke               Thistletown\n185        M8W         Etobicoke                 Alderwood\n186        M8W         Etobicoke               Long Branch\n189        M4X  Downtown Toronto               Cabbagetown\n190        M4X  Downtown Toronto            St. James Town\n191        M5X  Downtown Toronto      First Canadian Place\n192        M5X  Downtown Toronto          Underground city\n193        M8X         Etobicoke              The Kingsway\n194        M8X         Etobicoke           Montgomery Road\n195        M8X         Etobicoke            Old Mill North\n198        M8Y         Etobicoke                Humber Bay\n199        M8Y         Etobicoke          King's Mill Park\n200        M8Y         Etobicoke  Kingsway Park South East\n201        M8Y         Etobicoke                 Mimico NE\n202        M8Y         Etobicoke            Old Mill South\n203        M8Y         Etobicoke        The Queensway East\n204        M8Y         Etobicoke     Royal York South East\n205        M8Y         Etobicoke                  Sunnylea\n206        M8Z         Etobicoke  Kingsway Park South West\n207        M8Z         Etobicoke                 Mimico NW\n208        M8Z         Etobicoke        The Queensway West\n209        M8Z         Etobicoke     Royal York South West\n210        M8Z         Etobicoke            South of Bloor"
                    }, 
                    "output_type": "execute_result"
                }
            ], 
            "source": "cols = ['PostalCode', 'Borough', 'Neighborhood']\ntoronto_data = pd.DataFrame(lst, columns=cols)\nprint(toronto_data.shape)\ntoronto_data[toronto_data.duplicated(['PostalCode'], keep=False)] #- this would have shown the duplicate PostalCodes"
        }, 
        {
            "source": "Use groupby function to arrange the dataframe and keep the first Borough", 
            "cell_type": "markdown", 
            "metadata": {}
        }, 
        {
            "execution_count": 11, 
            "cell_type": "code", 
            "metadata": {}, 
            "outputs": [], 
            "source": "toronto_data = toronto_data.groupby('PostalCode').agg(\n    {\n        'Borough':'first', \n        'Neighborhood': ', '.join,}\n    ).reset_index()"
        }, 
        {
            "source": "Check if it worked by picking a column", 
            "cell_type": "markdown", 
            "metadata": {}
        }, 
        {
            "execution_count": 12, 
            "cell_type": "code", 
            "metadata": {}, 
            "outputs": [
                {
                    "execution_count": 12, 
                    "metadata": {}, 
                    "data": {
                        "text/html": "<div>\n<style scoped>\n    .dataframe tbody tr th:only-of-type {\n        vertical-align: middle;\n    }\n\n    .dataframe tbody tr th {\n        vertical-align: top;\n    }\n\n    .dataframe thead th {\n        text-align: right;\n    }\n</style>\n<table border=\"1\" class=\"dataframe\">\n  <thead>\n    <tr style=\"text-align: right;\">\n      <th></th>\n      <th>PostalCode</th>\n      <th>Borough</th>\n      <th>Neighborhood</th>\n    </tr>\n  </thead>\n  <tbody>\n    <tr>\n      <th>53</th>\n      <td>M5A</td>\n      <td>Downtown Toronto</td>\n      <td>Harbourfront, Regent Park</td>\n    </tr>\n  </tbody>\n</table>\n</div>", 
                        "text/plain": "   PostalCode           Borough               Neighborhood\n53        M5A  Downtown Toronto  Harbourfront, Regent Park"
                    }, 
                    "output_type": "execute_result"
                }
            ], 
            "source": "toronto_data.loc[toronto_data['PostalCode'] == 'M5A']"
        }, 
        {
            "source": "Check the shape of the new ataframe", 
            "cell_type": "markdown", 
            "metadata": {}
        }, 
        {
            "execution_count": 13, 
            "cell_type": "code", 
            "metadata": {}, 
            "outputs": [
                {
                    "execution_count": 13, 
                    "metadata": {}, 
                    "data": {
                        "text/plain": "(103, 3)"
                    }, 
                    "output_type": "execute_result"
                }
            ], 
            "source": "toronto_data.shape"
        }, 
        {
            "source": "Download the Geospartial data and rename the Postal Code", 
            "cell_type": "markdown", 
            "metadata": {}
        }, 
        {
            "execution_count": null, 
            "cell_type": "code", 
            "metadata": {}, 
            "outputs": [], 
            "source": "toronto_geo = pd.read_csv(\"https://cocl.us/Geospatial_data\")\ntoronto_geo.rename(columns={'Postal Code': 'PostalCode'}, inplace=True)"
        }, 
        {
            "source": "Merge the old data frame with the new one", 
            "cell_type": "markdown", 
            "metadata": {}
        }, 
        {
            "execution_count": null, 
            "cell_type": "code", 
            "metadata": {}, 
            "outputs": [], 
            "source": "toronto_df = pd.merge(toronto_data, toronto_geo, on=\"PostalCode\", how='left')\ntoronto_df"
        }, 
        {
            "source": "Read and load the downloaded ", 
            "cell_type": "markdown", 
            "metadata": {}
        }, 
        {
            "execution_count": null, 
            "cell_type": "code", 
            "metadata": {}, 
            "outputs": [], 
            "source": "# load the coordinates from the Geospatial_data\ncoordinates = pd.read_csv(\"https://cocl.us/Geospatial_data\")\ncoordinates.head()"
        }, 
        {
            "source": "Geolocate Toronto", 
            "cell_type": "markdown", 
            "metadata": {}
        }, 
        {
            "execution_count": null, 
            "cell_type": "code", 
            "metadata": {}, 
            "outputs": [], 
            "source": "address = 'Toronto, TO'\n\ngeolocator = Nominatim(user_agent=\"TO_explorer\")\nlocation = geolocator.geocode(address)\nlatitude = location.latitude\nlongitude = location.longitude\nprint('The geograpical coordinate of Toronto are {}, {}.'.format(latitude, longitude))"
        }, 
        {
            "source": "Create a map of Toront with neighborhoods superimposed on top", 
            "cell_type": "markdown", 
            "metadata": {}
        }, 
        {
            "execution_count": null, 
            "cell_type": "code", 
            "metadata": {}, 
            "outputs": [], 
            "source": "geolocator = Nominatim(user_agent=\"coursera\")\naddress = 'Toronto'\ntry:\n    location = geolocator.geocode(address)\n    latitude = location.latitude\n    longitude = location.longitude\n    print('The geograpical coordinates of {} are {}, {}.'.format(address, latitude, longitude))\nexcept AttributeError:\n    print('Cannot find: {}, will drop index: {}'.format(address, index))\n\ntoronto_map = folium.Map(location=[latitude, longitude], zoom_start=11)\n\n# add markers to map\nfor lat, lng, label in zip(toronto_df['Latitude'], toronto_df['Longitude'], toronto_df['PostalCode']):\n    label = folium.Popup(label)\n    folium.CircleMarker(\n        [lat, lng],\n        radius=5,\n        popup=label,\n        color='blue',\n        fill_color='#3186cc',\n        fill_opacity=0.7).add_to(toronto_map)  \n    \ntoronto_map"
        }, 
        {
            "source": "Test it on Etobicoke", 
            "cell_type": "markdown", 
            "metadata": {}
        }, 
        {
            "execution_count": null, 
            "cell_type": "code", 
            "metadata": {}, 
            "outputs": [], 
            "source": "Etobicoke_data = toronto_df[toronto_df['Borough'] == 'Etobicoke'].reset_index(drop=True)\nEtobicoke_data.head()"
        }, 
        {
            "source": "Get the geolocator of Etobicoke", 
            "cell_type": "markdown", 
            "metadata": {}
        }, 
        {
            "execution_count": null, 
            "cell_type": "code", 
            "metadata": {}, 
            "outputs": [], 
            "source": "address = 'Etobicoke, ET'\n\ngeolocator = Nominatim(user_agent=\"et_explorer\")\nlocation = geolocator.geocode(address)\nlatitude = location.latitude\nlongitude = location.longitude\nprint('The geograpical coordinate of Etobicoke are {}, {}.'.format(latitude, longitude))"
        }, 
        {
            "source": "Get the map of Etobicoke", 
            "cell_type": "markdown", 
            "metadata": {}
        }, 
        {
            "execution_count": null, 
            "cell_type": "code", 
            "metadata": {}, 
            "outputs": [], 
            "source": "# create map of Manhattan using latitude and longitude values\nmap_Etobicoke = folium.Map(location=[latitude, longitude], zoom_start=11)\n\n# add markers to map\nfor lat, lng, label in zip(Etobicoke_data['Latitude'], Etobicoke_data['Longitude'], Etobicoke_data['Neighborhood']):\n    label = folium.Popup(label, parse_html=True)\n    folium.CircleMarker(\n        [lat, lng],\n        radius=5,\n        popup=label,\n        color='blue',\n        fill=True,\n        fill_color='#3186cc',\n        fill_opacity=0.7,\n        parse_html=False).add_to(map_Etobicoke)  \n    \nmap_Etobicoke"
        }, 
        {
            "execution_count": null, 
            "cell_type": "code", 
            "metadata": {}, 
            "outputs": [], 
            "source": "Downtown_Toronto_df = toronto_df[toronto_df['Borough'] == 'Downtown Toronto'].reset_index(drop=True)\nDowntown_Toronto_df.head()                                         #M5H"
        }, 
        {
            "execution_count": null, 
            "cell_type": "code", 
            "metadata": {}, 
            "outputs": [], 
            "source": "address = 'Downtown_Toronto, DT'\n\ngeolocator = Nominatim(user_agent=\"et_explorer\")\nlocation = geolocator.geocode(address)\nif location:\n    latitude = location.latitude\n    longitude = location.longitude\nprint('The geograpical coordinate of Downtown_Toronto are {}, {}.'.format(latitude, longitude))"
        }, 
        {
            "execution_count": null, 
            "cell_type": "code", 
            "metadata": {}, 
            "outputs": [], 
            "source": "# create map of Manhattan using latitude and longitude values\nmap_Downtown_Toronto = folium.Map(location=[latitude, longitude], zoom_start=11)\n\n# add markers to map\nfor lat, lng, label in zip(Downtown_Toronto_df['Latitude'], Downtown_Toronto_df['Longitude'], Downtown_Toronto_df['Neighborhood']):\n    label = folium.Popup(label, parse_html=True)\n    folium.CircleMarker(\n        [lat, lng],\n        radius=5,\n        popup=label,\n        color='blue',\n        fill=True,\n        fill_color='#3186cc',\n        fill_opacity=0.7,\n        parse_html=False).add_to(map_Downtown_Toronto)  \n    \nmap_Downtown_Toronto"
        }, 
        {
            "source": "Get the Foursquare credentials and print them", 
            "cell_type": "markdown", 
            "metadata": {}
        }, 
        {
            "execution_count": null, 
            "cell_type": "code", 
            "metadata": {}, 
            "outputs": [], 
            "source": "CLIENT_ID = 'xxxx' # your Foursquare ID\nCLIENT_SECRET = 'xxxx' # your Foursquare Secret\nVERSION = '20180605' # Foursquare API version\n\nprint('Your credentails:')\nprint('CLIENT_ID: ' + CLIENT_ID)\nprint('CLIENT_SECRET:' + CLIENT_SECRET)"
        }, 
        {
            "source": "I will focus on Etobicoke", 
            "cell_type": "markdown", 
            "metadata": {}
        }, 
        {
            "execution_count": null, 
            "cell_type": "code", 
            "metadata": {}, 
            "outputs": [], 
            "source": "toronto_df.set_index('PostalCode', inplace = True) \nneighborhood_latitude = toronto_df.loc['M9V']['Latitude']\nneighborhood_longitude = toronto_df.loc['M9V']['Longitude']"
        }, 
        {
            "execution_count": null, 
            "cell_type": "code", 
            "metadata": {}, 
            "outputs": [], 
            "source": "\nLIMIT = 100 # limit of number of venues returned by Foursquare API\n\nradius = 500 # define radius\n\n # create URL\nurl = 'https://api.foursquare.com/v2/venues/explore?&client_id={}&client_secret={}&v={}&ll={},{}&radius={}&limit={}'.format(\n    CLIENT_ID, \n    CLIENT_SECRET, \n    VERSION, \n    neighborhood_latitude, \n    neighborhood_longitude, \n    radius, \n    LIMIT)\nurl # display URL"
        }, 
        {
            "execution_count": null, 
            "cell_type": "code", 
            "metadata": {}, 
            "outputs": [], 
            "source": "results = requests.get(url).json()\nresults"
        }, 
        {
            "execution_count": null, 
            "cell_type": "code", 
            "metadata": {}, 
            "outputs": [], 
            "source": "# function that extracts the category of the venue\ndef get_category_type(row):\n    try:\n        categories_list = row['categories']\n    except:\n        categories_list = row['venue.categories']\n        \n    if len(categories_list) == 0:\n        return None\n    else:\n        return categories_list[0]['name']\n"
        }, 
        {
            "execution_count": null, 
            "cell_type": "code", 
            "metadata": {}, 
            "outputs": [], 
            "source": "venues = results['response']['groups'][0]['items']\nvenues"
        }, 
        {
            "execution_count": null, 
            "cell_type": "code", 
            "metadata": {}, 
            "outputs": [], 
            "source": "nearby_venues = json_normalize(venues) # flatten JSON\nnearby_venues"
        }, 
        {
            "source": "Clean the json and structure it into a pandas dataframe.", 
            "cell_type": "markdown", 
            "metadata": {}
        }, 
        {
            "execution_count": null, 
            "cell_type": "code", 
            "metadata": {}, 
            "outputs": [], 
            "source": "# filter columns\nfiltered_columns = ['venue.name', 'venue.categories', 'venue.location.lat', 'venue.location.lng']\nnearby_venues = nearby_venues.loc[:, filtered_columns]\n\n# filter the category for each row\nnearby_venues['venue.categories'] = nearby_venues.apply(get_category_type, axis=1)\n\n# clean columns\nnearby_venues.columns = [col.split(\".\")[-1] for col in nearby_venues.columns]\n\nnearby_venues.head()"
        }, 
        {
            "execution_count": null, 
            "cell_type": "code", 
            "metadata": {}, 
            "outputs": [], 
            "source": "print('{} venues were returned by Foursquare.'.format(nearby_venues.shape[0]))"
        }, 
        {
            "source": "\nUse geopy library to get the latitude and longitude values of Toronto", 
            "cell_type": "markdown", 
            "metadata": {}
        }, 
        {
            "execution_count": null, 
            "cell_type": "code", 
            "metadata": {}, 
            "outputs": [], 
            "source": "def getNearbyVenues(names, latitudes, longitudes, radius=500):\n    \n    venues_list=[]\n    for name, lat, lng in zip(names, latitudes, longitudes):\n        print(name)\n            \n        # create the API request URL\n        url = 'https://api.foursquare.com/v2/venues/explore?&client_id={}&client_secret={}&v={}&ll={},{}&radius={}&limit={}'.format(\n            CLIENT_ID, \n            CLIENT_SECRET, \n            VERSION, \n            lat, \n            lng, \n            radius, \n            LIMIT)\n            \n        # make the GET request\n        results = requests.get(url).json()[\"response\"]['groups'][0]['items']\n        \n        # return only relevant information for each nearby venue\n        venues_list.append([(\n            name, \n            lat, \n            lng, \n            v['venue']['name'], \n            v['venue']['location']['lat'], \n            v['venue']['location']['lng'],  \n            v['venue']['categories'][0]['name']) for v in results])\n        nearby_venues = pd.DataFrame([item for venue_list in venues_list for item in venue_list])\n    nearby_venues.columns = ['Neighborhood', \n                  'Neighborhood Latitude', \n                  'Neighborhood Longitude', \n                  'Venue', \n                  'Venue Latitude', \n                  'Venue Longitude', \n                  'Venue Category']\n    \n    return(nearby_venues)"
        }, 
        {
            "source": "And how many venues were returned by Foursquare", 
            "cell_type": "markdown", 
            "metadata": {}
        }, 
        {
            "execution_count": null, 
            "cell_type": "code", 
            "metadata": {}, 
            "outputs": [], 
            "source": "toronto_df"
        }, 
        {
            "execution_count": null, 
            "cell_type": "code", 
            "metadata": {}, 
            "outputs": [], 
            "source": "venues = getNearbyVenues(names=toronto_df['Borough'],latitudes=toronto_df['Latitude'],longitudes=toronto_df['Longitude'])"
        }, 
        {
            "execution_count": null, 
            "cell_type": "code", 
            "metadata": {}, 
            "outputs": [], 
            "source": "print(venues.shape)\nvenues.head()"
        }, 
        {
            "source": "Group and count the venues", 
            "cell_type": "markdown", 
            "metadata": {}
        }, 
        {
            "execution_count": null, 
            "cell_type": "code", 
            "metadata": {
                "scrolled": true
            }, 
            "outputs": [], 
            "source": "venues.groupby('Neighborhood').count()"
        }, 
        {
            "execution_count": null, 
            "cell_type": "code", 
            "metadata": {}, 
            "outputs": [], 
            "source": "print('There are {} unique categories.'.format(len(venues['Venue Category'].unique())))"
        }, 
        {
            "source": "One hot encoding to teh dataframe of the categories of the different venues", 
            "cell_type": "markdown", 
            "metadata": {}
        }, 
        {
            "execution_count": null, 
            "cell_type": "code", 
            "metadata": {}, 
            "outputs": [], 
            "source": "# one hot encoding\nonehot = pd.get_dummies(venues[['Venue Category']], prefix=\"\", prefix_sep=\"\")\n\n# add neighborhood column back to dataframe\nonehot['Neighborhood'] = venues['Neighborhood'] \n\nonehot.head()"
        }, 
        {
            "execution_count": null, 
            "cell_type": "code", 
            "metadata": {}, 
            "outputs": [], 
            "source": "onehot.shape"
        }, 
        {
            "execution_count": null, 
            "cell_type": "code", 
            "metadata": {}, 
            "outputs": [], 
            "source": "grouped = onehot.groupby('Neighborhood').mean().reset_index()\ngrouped"
        }, 
        {
            "execution_count": null, 
            "cell_type": "code", 
            "metadata": {}, 
            "outputs": [], 
            "source": "grouped.shape"
        }, 
        {
            "execution_count": null, 
            "cell_type": "code", 
            "metadata": {}, 
            "outputs": [], 
            "source": "num_top_venues = 5\n\nfor hood in grouped['Neighborhood']:\n    print(\"----\"+hood+\"----\")\n    temp = grouped[grouped['Neighborhood'] == hood].T.reset_index()\n    temp.columns = ['venue','freq']\n    temp = temp.iloc[1:]\n    temp['freq'] = temp['freq'].astype(float)\n    temp = temp.round({'freq': 2})\n    print(temp.sort_values('freq', ascending=False).reset_index(drop=True).head(num_top_venues))\n    print('\\n')"
        }, 
        {
            "source": "Returnthe number of common venues and sort the rows by categories", 
            "cell_type": "markdown", 
            "metadata": {}
        }, 
        {
            "execution_count": null, 
            "cell_type": "code", 
            "metadata": {}, 
            "outputs": [], 
            "source": "def return_most_common_venues(row, num_top_venues):\n    row_categories = row.iloc[1:]\n    row_categories_sorted = row_categories.sort_values(ascending=False)\n    \n    return row_categories_sorted.index.values[0:num_top_venues]"
        }, 
        {
            "source": "Create columns according to number of clusters and a new dataframe", 
            "cell_type": "markdown", 
            "metadata": {}
        }, 
        {
            "execution_count": null, 
            "cell_type": "code", 
            "metadata": {}, 
            "outputs": [], 
            "source": "num_top_venues = 10\n\nindicators = ['st', 'nd', 'rd']\n\n# create columns according to number of top venues\ncolumns = ['Neighborhood']\nfor ind in np.arange(num_top_venues):\n    try:\n        columns.append('{}{} Most Common Venue'.format(ind+1, indicators[ind]))\n    except:\n        columns.append('{}th Most Common Venue'.format(ind+1))\n\n# create a new dataframe\nneighborhoods_venues_sorted = pd.DataFrame(columns=columns)\nneighborhoods_venues_sorted['Neighborhood'] = grouped['Neighborhood']\n\nfor ind in np.arange(grouped.shape[0]):\n    neighborhoods_venues_sorted.iloc[ind, 1:] = return_most_common_venues(grouped.iloc[ind, :], num_top_venues)\n\nneighborhoods_venues_sorted"
        }, 
        {
            "source": "Set number of clusters", 
            "cell_type": "markdown", 
            "metadata": {}
        }, 
        {
            "execution_count": null, 
            "cell_type": "code", 
            "metadata": {}, 
            "outputs": [], 
            "source": "# set number of clusters\nkclusters = 5\n\ngrouped_clustering = grouped.drop('Neighborhood', 1)\n\n# run k-means clustering\nkmeans = KMeans(n_clusters=kclusters, random_state=0).fit(grouped_clustering)\n\n# check cluster labels generated for each row in the dataframe\nkmeans.labels_[0:10]"
        }, 
        {
            "source": "Add  clustering labels andmerge toronto_grouped with toronto_data to add latitude/longitude for each neighborhood", 
            "cell_type": "markdown", 
            "metadata": {}
        }, 
        {
            "execution_count": null, 
            "cell_type": "code", 
            "metadata": {}, 
            "outputs": [], 
            "source": "merged = grouped\n\n# add clustering labels\nmerged['Cluster Labels'] = kmeans.labels_\n\n# merge toronto_grouped with toronto_data to add latitude/longitude for each neighborhood\nmerged = merged.join(neighborhoods_venues_sorted.set_index('Neighborhood'), on='Neighborhood')\n\nmerged.head() # check the last columns!"
        }, 
        {
            "execution_count": null, 
            "cell_type": "code", 
            "metadata": {}, 
            "outputs": [], 
            "source": ""
        }
    ], 
    "metadata": {
        "kernelspec": {
            "display_name": "Python 3.6", 
            "name": "python3", 
            "language": "python"
        }, 
        "language_info": {
            "mimetype": "text/x-python", 
            "nbconvert_exporter": "python", 
            "version": "3.6.8", 
            "name": "python", 
            "file_extension": ".py", 
            "pygments_lexer": "ipython3", 
            "codemirror_mode": {
                "version": 3, 
                "name": "ipython"
            }
        }
    }, 
    "nbformat": 4
}